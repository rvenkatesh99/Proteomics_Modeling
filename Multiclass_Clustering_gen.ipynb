{
 "cells": [
  {
   "cell_type": "markdown",
   "id": "b3e87bd3-6fda-40b6-88e6-aa4e66fd2b52",
   "metadata": {},
   "source": [
    "# Multiclass Clustering"
   ]
  },
  {
   "cell_type": "code",
   "execution_count": null,
   "id": "05b9784a-84da-48fd-8e0a-674e450ef0e3",
   "metadata": {},
   "outputs": [],
   "source": [
    "import xgboost\n",
    "import shap\n",
    "print(xgboost.__version__)\n",
    "print(shap.__version__)\n"
   ]
  },
  {
   "cell_type": "code",
   "execution_count": null,
   "id": "dfd7c5de-cd0e-4940-894e-4318eeedcec6",
   "metadata": {
    "tags": []
   },
   "outputs": [],
   "source": [
    "# % load xgboost_multiclass.py"
   ]
  },
  {
   "cell_type": "code",
   "execution_count": null,
   "id": "93dd7c8e-a1ab-4bdd-aa9e-96e8f39de14a",
   "metadata": {
    "tags": []
   },
   "outputs": [],
   "source": [
    "prs_pheno_clustered = pd.read_csv('', index_col = 'Unnamed: 0')\n",
    "prot = pd.read_csv('', index_col = 'PMBB_ID')\n",
    "\n",
    "demo_cols = ['Enrollment_age', 'gender_source_value', 'PC1', 'PC2', 'PC3', 'PC4', 'PC5']\n",
    "fin = prs_pheno_clustered[demo_cols + list(prot.columns) + ['SCORE1_AVG'] + [\"Assigned_Cluster\"]].dropna()\n",
    "\n",
    "X = fin[demo_cols + list(prot.columns) + ['SCORE1_AVG']]\n",
    "X = X.loc[:, ~X.columns.duplicated()]\n",
    "y = fin[\"Assigned_Cluster\"]\n",
    "\n",
    "results = run_xgboost_multiclass(X, y, n_iter=10, output_prefix='', n_trials = 20)"
   ]
  },
  {
   "cell_type": "code",
   "execution_count": null,
   "id": "73cd44f3-de62-4933-8c5d-6021d98ff0f9",
   "metadata": {},
   "outputs": [],
   "source": [
    "import pandas as pd\n",
    "import numpy as np\n",
    "import matplotlib.pyplot as plt\n",
    "import seaborn as sns\n",
    "from sklearn.preprocessing import LabelEncoder\n",
    "\n",
    "df = fin.copy()\n",
    "df['PRS'] = df['SCORE1_AVG']  # adjust to your PRS column name\n",
    "demo_cols = ['Enrollment_age', 'gender_source_value', 'PC1', 'PC2', 'PC3', 'PC4', 'PC5']\n",
    "X = df[demo_cols + list(prot.columns) + ['SCORE1_AVG'] + [\"Assigned_Cluster\"]].dropna()\n",
    "\n",
    "\n",
    "# --- 1. Get PRS tertiles ---\n",
    "df['PRS_tertile'] = pd.qcut(df['PRS'], q=3, labels=[\"Low\", \"Medium\", \"High\"])\n",
    "\n",
    "probs = pd.read_csv(\"\", index_col = 'sample_id')\n",
    "# Merge by sample index\n",
    "merged = probs.join(df)\n",
    "\n",
    "# Melt for plotting: long format\n",
    "melted = merged.melt(id_vars=['PRS_tertile', 'iteration'],\n",
    "                     value_vars=['prob_class_0', 'prob_class_1', 'prob_class_2', 'prob_class_3'],\n",
    "                     var_name='Class', value_name='Predicted_Prob')"
   ]
  },
  {
   "cell_type": "code",
   "execution_count": null,
   "id": "1f117cde-3c4b-4edf-abb9-82c43de9b43d",
   "metadata": {},
   "outputs": [],
   "source": [
    "pd.crosstab(merged['true'], merged['PRS_tertile'], normalize='columns')\n",
    "import pandas as pd\n",
    "import matplotlib.pyplot as plt\n",
    "import seaborn as sns\n",
    "\n",
    "# freqs from crosstab\n",
    "data = {\n",
    "    'Low':    [0.288043, 0.277174, 0.177536, 0.257246],\n",
    "    'Medium': [0.362173, 0.285714, 0.144869, 0.207243],\n",
    "    'High':   [0.397590, 0.283993, 0.086059, 0.232358]\n",
    "}\n",
    "classes = ['Class 0', 'Class 1', 'Class 2', 'Class 3']\n",
    "df = pd.DataFrame(data, index=classes)\n",
    "\n",
    "# Set color palette for classes from clustering\n",
    "cluster_palette = {\n",
    "    'Class 0': sns.color_palette(\"Set2\")[0],\n",
    "    'Class 1': sns.color_palette(\"Set2\")[1],\n",
    "    'Class 2': sns.color_palette(\"Set2\")[2],\n",
    "    'Class 3': sns.color_palette(\"Set2\")[3]\n",
    "}\n",
    "\n",
    "# Plot\n",
    "fig, axes = plt.subplots(3, 1, figsize=(10, 20), sharey=False)\n",
    "\n",
    "for ax, tertile in zip(axes, df.columns):\n",
    "    ax.bar(df.index, df[tertile], color=[cluster_palette[cls] for cls in df.index])\n",
    "    ax.set_title(f\"PRS Tertile: {tertile}\", fontsize = 20)\n",
    "    ax.set_ylabel(\"Proportion\", fontsize = 18)\n",
    "    ax.set_ylim(0, 0.5)\n",
    "    ax.tick_params(axis='both', rotation=0, labelsize=16)\n",
    "\n",
    "fig.suptitle(\"Class Proportions Across PRS Tertiles\", fontsize=30)\n",
    "plt.show()\n"
   ]
  },
  {
   "cell_type": "code",
   "execution_count": null,
   "id": "5c1fe159-3e75-452d-9185-0259f7954ba6",
   "metadata": {},
   "outputs": [],
   "source": [
    "# %load multinomial_regression_multiclass.py"
   ]
  },
  {
   "cell_type": "code",
   "execution_count": null,
   "id": "44801fb9-cb8c-4ae1-84ad-aafb0985ea58",
   "metadata": {
    "tags": []
   },
   "outputs": [],
   "source": [
    "prs_pheno_clustered = pd.read_csv('', index_col = 'Unnamed: 0')\n",
    "prot = pd.read_csv('', index_col = 'PMBB_ID')\n",
    "\n",
    "demo_cols = ['Enrollment_age', 'gender_source_value', 'PC1', 'PC2', 'PC3', 'PC4', 'PC5'] + list(prot.columns)\n",
    "fin = prs_pheno_clustered[demo_cols + list(prot.columns) + ['SCORE1_AVG'] + [\"Assigned_Cluster\"]].dropna()\n",
    "\n",
    "X = fin[demo_cols + list(prot.columns) + ['SCORE1_AVG']]\n",
    "X = X.loc[:, ~X.columns.duplicated()]\n",
    "y = fin[\"Assigned_Cluster\"]\n",
    "\n",
    "results = run_xgboost_multiclass(X, y, n_iter=10, output_prefix='', n_trials = 20)"
   ]
  }
 ],
 "metadata": {
  "kernelspec": {
   "display_name": "Python 3",
   "language": "python",
   "name": "python3"
  },
  "language_info": {
   "codemirror_mode": {
    "name": "ipython",
    "version": 3
   },
   "file_extension": ".py",
   "mimetype": "text/x-python",
   "name": "python",
   "nbconvert_exporter": "python",
   "pygments_lexer": "ipython3",
   "version": "3.8.12"
  }
 },
 "nbformat": 4,
 "nbformat_minor": 5
}
