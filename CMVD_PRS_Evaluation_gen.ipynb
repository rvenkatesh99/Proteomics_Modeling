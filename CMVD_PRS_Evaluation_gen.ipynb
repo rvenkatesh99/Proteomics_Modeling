{
 "cells": [
  {
   "cell_type": "markdown",
   "id": "3b0b1489-033a-4a71-bec2-a1f3a5afe219",
   "metadata": {},
   "source": [
    "# CMVD PRS Evaluation"
   ]
  },
  {
   "cell_type": "code",
   "execution_count": null,
   "id": "45feba36-c014-454e-a1c7-7f03fe7e9e41",
   "metadata": {},
   "outputs": [],
   "source": [
    "import pandas as pd\n",
    "import numpy as np\n",
    "from scipy.stats import linregress\n",
    "from sklearn.linear_model import LogisticRegression, LogisticRegressionCV\n",
    "from sklearn.model_selection import train_test_split\n",
    "from sklearn import metrics\n",
    "from sklearn.metrics import matthews_corrcoef\n",
    "from sklearn.metrics import accuracy_score, confusion_matrix, classification_report, roc_auc_score, roc_curve, f1_score, \\\n",
    "    balanced_accuracy_score, average_precision_score, precision_score, recall_score\n",
    "import matplotlib.pyplot as plt\n",
    "from sklearn.preprocessing import StandardScaler\n",
    "\n",
    "import math\n",
    "import seaborn as sns"
   ]
  },
  {
   "cell_type": "markdown",
   "id": "2ee2330b-5a30-4314-a7ce-514419161ee8",
   "metadata": {},
   "source": [
    "## PRS Eval - Models 1,2,3"
   ]
  },
  {
   "cell_type": "code",
   "execution_count": null,
   "id": "d82e8e98-63bd-492d-a988-06ed75127c36",
   "metadata": {},
   "outputs": [],
   "source": [
    "prs = pd.read_csv(f'', sep = '\\t')\n",
    "prs"
   ]
  },
  {
   "cell_type": "code",
   "execution_count": null,
   "id": "97bf9193-e782-46ee-b059-4363f1f3ff5e",
   "metadata": {
    "tags": []
   },
   "outputs": [],
   "source": [
    "phenotype = pd.read_csv(\"\")\n",
    "samps = list(phenotype['PMBB_ID'])\n",
    "phenotype = phenotype.set_index(\"\")\n",
    "prs = pd.read_csv(f'', sep = '\\t')\n",
    "prs = prs[prs['IID'].isin(samps)]\n",
    "prs = prs.set_index(\"IID\")\n",
    "prs.index = [str(x) for x in prs.index]\n",
    "prs_pheno = prs.join(phenotype)\n",
    "\n",
    "# feature_cols = ['Enrollment_age', 'gender_source_value', 'PC1', 'PC2', 'PC3', 'PC4', 'PC5'] #- JUST covs\n",
    "feature_cols = ['SCORE1_AVG'] #- JUST PRS\n",
    "# feature_cols = ['SCORE1_AVG', 'Enrollment_age', 'gender_source_value', 'PC1', 'PC2', 'PC3', 'PC4', 'PC5'] #- all covs\n",
    "\n",
    "prs_pheno_fin = prs_pheno[feature_cols + ['CMVD']].dropna()\n",
    "X = prs_pheno_fin[feature_cols] \n",
    "y = prs_pheno_fin['CMVD'] \n",
    "\n",
    "results = []\n",
    "\n",
    "for j in range(0,100):\n",
    "    # split X and y into training and testing sets\n",
    "    X_train, X_test, y_train, y_test = train_test_split(X, y, test_size=0.2, random_state=j+1)\n",
    "    scaler = StandardScaler()\n",
    "    X_train_scaled = scaler.fit_transform(X_train)\n",
    "    X_test_scaled = scaler.transform(X_test)\n",
    "    \n",
    "    logreg = LogisticRegressionCV(\n",
    "    penalty='l1',\n",
    "    solver='saga',\n",
    "    cv=5,\n",
    "    scoring='roc_auc',\n",
    "    max_iter=5000,          \n",
    "    n_jobs=-1\n",
    ")\n",
    "\n",
    "    # fit\n",
    "    logreg.fit(X_train_scaled, y_train)\n",
    "    y_pred = logreg.predict(X_test_scaled)\n",
    "    y_pred_proba = logreg.predict_proba(X_test_scaled)[::,1]\n",
    "    auc = metrics.roc_auc_score(y_test, y_pred_proba)\n",
    "    mcc = matthews_corrcoef(y_test, y_pred)\n",
    "\n",
    "    test_accuracy = accuracy_score(y_test, y_pred)\n",
    "    test_roc_auc = roc_auc_score(y_test, y_pred_proba)\n",
    "    test_f1 = f1_score(y_test, y_pred)\n",
    "    test_balanced_acc = balanced_accuracy_score(y_test, y_pred)\n",
    "    test_auprc = average_precision_score(y_test, y_pred_proba)\n",
    "    test_conf_matrix = confusion_matrix(y_test, y_pred)\n",
    "    test_class_report = classification_report(y_test, y_pred, output_dict=True)\n",
    "    test_precision = precision_score(y_test, y_pred)\n",
    "    test_recall = recall_score(y_test, y_pred)\n",
    "\n",
    "    results.append({\n",
    "            'iteration': j,\n",
    "            'test_accuracy': test_accuracy,\n",
    "            'test_roc_auc': test_roc_auc,\n",
    "            'test_f1': test_f1,\n",
    "            'test_balanced_acc': test_balanced_acc,\n",
    "            'test_auprc': test_auprc,\n",
    "            'test_precision': test_precision,\n",
    "            'test_recall': test_recall,\n",
    "            'test_mcc': mcc})\n",
    "\n",
    "df = pd.DataFrame(results)\n",
    "df"
   ]
  },
  {
   "cell_type": "code",
   "execution_count": null,
   "id": "e6998e9f-508d-487f-98a5-3e67224bf9a3",
   "metadata": {},
   "outputs": [],
   "source": [
    "sumstats = df.drop(columns = ['iteration'])[['test_roc_auc', 'test_auprc', 'test_balanced_acc',  'test_f1', 'test_mcc']]\n",
    "mean_std = sumstats.agg(['mean', 'count', 'std']).T\n",
    "mean_std\n",
    "\n",
    "ci95_hi = []\n",
    "ci95_lo = []\n",
    "\n",
    "for i in mean_std.index:\n",
    "    m, c, s = mean_std.loc[i]\n",
    "    ci95_hi.append(m + 1.96*s/math.sqrt(c))\n",
    "    ci95_lo.append(m - 1.96*s/math.sqrt(c))\n",
    "\n",
    "mean_std['ci95_lo'] = ci95_lo\n",
    "mean_std['ci95_hi'] = ci95_hi\n",
    "print(mean_std.round(3))"
   ]
  },
  {
   "cell_type": "code",
   "execution_count": null,
   "id": "f3b9adb9-3d94-4580-9537-81e5f432eae3",
   "metadata": {},
   "outputs": [],
   "source": [
    "phenotype = pd.read_csv(\"\")\n",
    "samps = list(phenotype['PMBB_ID'])\n",
    "phenotype = phenotype.set_index(\"\")\n",
    "phenotype['CMVD'] = phenotype['CMVD']\n",
    "prs = pd.read_csv(f'', sep = '\\t')\n",
    "prs = prs[prs['IID'].isin(samps)]\n",
    "prs = prs.set_index(\"IID\")\n",
    "prs.index = [str(x) for x in prs.index]\n",
    "prs_pheno = prs.join(phenotype)\n",
    "\n",
    "prot = pd.read_csv('', index_col = 'PMBB_ID')\n",
    "demo_cols = ['Enrollment_age', 'gender_source_value', 'PC1', 'PC2', 'PC3', 'PC4', 'PC5'] + list(prot.columns)\n",
    "\n",
    "prs_pheno_mod = prs_pheno[demo_cols + list(prot.columns)+ ['SCORE1_AVG'] + ['CMVD']].dropna()\n",
    "prs_pheno_mod.to_csv('')\n",
    "prs_pheno_mod"
   ]
  },
  {
   "cell_type": "markdown",
   "id": "2161684f-e696-4ffd-9121-673db8314a15",
   "metadata": {},
   "source": [
    "### Model Including PRS as a Feature"
   ]
  },
  {
   "cell_type": "code",
   "execution_count": null,
   "id": "599cd0e4-9f5d-45cb-b04a-d62678b39e7a",
   "metadata": {
    "tags": []
   },
   "outputs": [],
   "source": [
    "# %load elasticnet_logistic_classification.py"
   ]
  },
  {
   "cell_type": "code",
   "execution_count": null,
   "id": "f8f2a4d8-f311-408e-9c73-a995be0f23db",
   "metadata": {
    "tags": []
   },
   "outputs": [],
   "source": [
    "prs_pheno_mod = pd.read_csv('')\n",
    "prot = pd.read_csv('', index_col = 'PMBB_ID')\n",
    "\n",
    "demo_cols = ['Enrollment_age', 'gender_source_value', 'PC1', 'PC2', 'PC3', 'PC4', 'PC5']\n",
    "X = prs_pheno_mod[demo_cols + ['SCORE1_AVG']]\n",
    "X = X.loc[:, ~X.columns.duplicated()]\n",
    "y = prs_pheno_mod[\"CMVD\"]\n",
    "\n",
    "results = run_elasticnet_classification(X, y, n_iter=20, output_prefix='')"
   ]
  },
  {
   "cell_type": "code",
   "execution_count": null,
   "id": "26f4ab7d-fe6e-484e-85d7-9f6106276207",
   "metadata": {
    "tags": []
   },
   "outputs": [],
   "source": [
    "# %load xgboost_classification_bestshap.py"
   ]
  },
  {
   "cell_type": "code",
   "execution_count": null,
   "id": "2882bdc0-f31e-471f-aa9f-a002747d55a4",
   "metadata": {
    "tags": []
   },
   "outputs": [],
   "source": [
    "prs_pheno_mod = pd.read_csv('')\n",
    "prot = pd.read_csv('', index_col = 'PMBB_ID')\n",
    "\n",
    "demo_cols = ['Enrollment_age', 'gender_source_value', 'PC1', 'PC2', 'PC3', 'PC4', 'PC5']\n",
    "# X = prs_pheno_mod[demo_cols + list(prot.columns) + ['SCORE1_AVG']]\n",
    "X = prs_pheno_mod[demo_cols + ['SCORE1_AVG']]\n",
    "X = X.loc[:, ~X.columns.duplicated()]\n",
    "y = prs_pheno_mod[\"CMVD\"]\n",
    "\n",
    "results = run_xgboost_classification(X, y, n_iter=10, output_prefix='', n_trials = 10)"
   ]
  },
  {
   "cell_type": "code",
   "execution_count": null,
   "id": "a42cc121-292b-4380-9389-3a6612f7aa75",
   "metadata": {
    "tags": []
   },
   "outputs": [],
   "source": [
    "# %load autoencoder_classification_bestshap.py"
   ]
  },
  {
   "cell_type": "code",
   "execution_count": null,
   "id": "5419b090-79f9-4dfd-9f11-85860e4baee3",
   "metadata": {
    "tags": []
   },
   "outputs": [],
   "source": [
    "prs_pheno_mod = pd.read_csv('')\n",
    "prot = pd.read_csv('', index_col = 'PMBB_ID')\n",
    "\n",
    "demo_cols = ['Enrollment_age', 'gender_source_value', 'PC1', 'PC2', 'PC3', 'PC4', 'PC5']\n",
    "# X = prs_pheno_mod[demo_cols + list(prot.columns) + ['SCORE1_AVG']]\n",
    "X = prs_pheno_mod[demo_cols + ['SCORE1_AVG']]\n",
    "X = X.loc[:, ~X.columns.duplicated()].dropna()\n",
    "y = prs_pheno_mod[\"CMVD\"]\n",
    "\n",
    "results = run_autoencoder_classification(X, y, n_iter=10, output_dir='', n_trials = 10)"
   ]
  },
  {
   "cell_type": "code",
   "execution_count": null,
   "id": "99b479e2-62d6-4372-96f7-05eb66ba8dc5",
   "metadata": {
    "tags": []
   },
   "outputs": [],
   "source": [
    "# %load DL_classification_bestshap.py"
   ]
  },
  {
   "cell_type": "code",
   "execution_count": null,
   "id": "f1c083af-814c-40d4-b0bd-3c1200db4e9a",
   "metadata": {
    "tags": []
   },
   "outputs": [],
   "source": [
    "prs_pheno_mod = pd.read_csv('')\n",
    "prot = pd.read_csv('', index_col = 'PMBB_ID')\n",
    "\n",
    "demo_cols = ['Enrollment_age', 'gender_source_value', 'PC1', 'PC2', 'PC3', 'PC4', 'PC5']\n",
    "# X = prs_pheno_mod[demo_cols + list(prot.columns) + ['SCORE1_AVG']]\n",
    "X = prs_pheno_mod[demo_cols + ['SCORE1_AVG']]\n",
    "X = X.loc[:, ~X.columns.duplicated()]\n",
    "y = prs_pheno_mod[\"CMVD\"]\n",
    "\n",
    "results = run_pytorch_classification(X, y, n_iter=10, output_prefix='', n_trials = 10)"
   ]
  }
 ],
 "metadata": {
  "kernelspec": {
   "display_name": "Python 3",
   "language": "python",
   "name": "python3"
  },
  "language_info": {
   "codemirror_mode": {
    "name": "ipython",
    "version": 3
   },
   "file_extension": ".py",
   "mimetype": "text/x-python",
   "name": "python",
   "nbconvert_exporter": "python",
   "pygments_lexer": "ipython3",
   "version": "3.8.12"
  }
 },
 "nbformat": 4,
 "nbformat_minor": 5
}
